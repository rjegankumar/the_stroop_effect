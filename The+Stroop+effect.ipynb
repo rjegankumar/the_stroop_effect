{
 "cells": [
  {
   "cell_type": "markdown",
   "metadata": {},
   "source": [
    "# The Stroop effect"
   ]
  },
  {
   "cell_type": "markdown",
   "metadata": {},
   "source": [
    "**Independent variable** - the two conditions - congruent words, and incongruent words.\n",
    "\n",
    "**Dependent variable** - reaction time in each of the two conditions.\n",
    "\n",
    "**Hypotheses:**\n",
    "\n",
    "Null hypotheses, $H_0$ - the reaction time of the congruent words condition is greater than or equal to the incongruent words condition: $\\mu_{congruent} \\ge \\mu_{incongruent}$\n",
    "\n",
    "Alternate hypotheses, $H_A$ - the reaction time of the congruent words condition is less than the incongruent words condition: $\\mu_{congruent} < \\mu_{incongruent}$\n",
    "\n",
    "Where: $\\mu_{congruent}$ - Mean of congruent reaction times in seconds, $\\mu_{incongruent}$ - Mean of incongruent reaction times in seconds\n",
    "\n",
    "**Recommended statistical test** - dependent samples t-test, one-tailed, negative.\n",
    "\n",
    "**Justification for the hypotheses and test selection** - to prove that the reaction time of the incongruent words conditions is significantly longer than the congruent words condition. This will be in alignment with previous experimental findings/ results - http://psychclassics.yorku.ca/Stroop/; https://en.wikipedia.org/wiki/Stroop_effect#Stroop_test\n",
    "\n",
    "My stroop effect time (https://faculty.washington.edu/chudler/java/ready.html) - congruent = 13.287 secs, incongruent = 27.269 secs"
   ]
  },
  {
   "cell_type": "markdown",
   "metadata": {},
   "source": [
    "## Reading in and previewing the data"
   ]
  },
  {
   "cell_type": "code",
   "execution_count": 1,
   "metadata": {
    "collapsed": false
   },
   "outputs": [
    {
     "data": {
      "text/html": [
       "<div>\n",
       "<table border=\"1\" class=\"dataframe\">\n",
       "  <thead>\n",
       "    <tr style=\"text-align: right;\">\n",
       "      <th></th>\n",
       "      <th>Congruent</th>\n",
       "      <th>Incongruent</th>\n",
       "    </tr>\n",
       "  </thead>\n",
       "  <tbody>\n",
       "    <tr>\n",
       "      <th>0</th>\n",
       "      <td>12.079</td>\n",
       "      <td>19.278</td>\n",
       "    </tr>\n",
       "    <tr>\n",
       "      <th>1</th>\n",
       "      <td>16.791</td>\n",
       "      <td>18.741</td>\n",
       "    </tr>\n",
       "    <tr>\n",
       "      <th>2</th>\n",
       "      <td>9.564</td>\n",
       "      <td>21.214</td>\n",
       "    </tr>\n",
       "    <tr>\n",
       "      <th>3</th>\n",
       "      <td>8.630</td>\n",
       "      <td>15.687</td>\n",
       "    </tr>\n",
       "    <tr>\n",
       "      <th>4</th>\n",
       "      <td>14.669</td>\n",
       "      <td>22.803</td>\n",
       "    </tr>\n",
       "  </tbody>\n",
       "</table>\n",
       "</div>"
      ],
      "text/plain": [
       "   Congruent  Incongruent\n",
       "0     12.079       19.278\n",
       "1     16.791       18.741\n",
       "2      9.564       21.214\n",
       "3      8.630       15.687\n",
       "4     14.669       22.803"
      ]
     },
     "execution_count": 1,
     "metadata": {},
     "output_type": "execute_result"
    }
   ],
   "source": [
    "import pandas as pd\n",
    "\n",
    "stroop_data = pd.read_csv(\"stroopdata.csv\")\n",
    "stroop_data.head(5)"
   ]
  },
  {
   "cell_type": "code",
   "execution_count": 3,
   "metadata": {
    "collapsed": false
   },
   "outputs": [
    {
     "data": {
      "text/plain": [
       "(24, 2)"
      ]
     },
     "execution_count": 3,
     "metadata": {},
     "output_type": "execute_result"
    }
   ],
   "source": [
    "stroop_data.shape"
   ]
  },
  {
   "cell_type": "markdown",
   "metadata": {},
   "source": [
    "## Descriptive statistics"
   ]
  },
  {
   "cell_type": "code",
   "execution_count": 4,
   "metadata": {
    "collapsed": false,
    "scrolled": true
   },
   "outputs": [
    {
     "data": {
      "text/html": [
       "<div>\n",
       "<table border=\"1\" class=\"dataframe\">\n",
       "  <thead>\n",
       "    <tr style=\"text-align: right;\">\n",
       "      <th></th>\n",
       "      <th>Congruent</th>\n",
       "      <th>Incongruent</th>\n",
       "    </tr>\n",
       "  </thead>\n",
       "  <tbody>\n",
       "    <tr>\n",
       "      <th>count</th>\n",
       "      <td>24.000000</td>\n",
       "      <td>24.000000</td>\n",
       "    </tr>\n",
       "    <tr>\n",
       "      <th>mean</th>\n",
       "      <td>14.051125</td>\n",
       "      <td>22.015917</td>\n",
       "    </tr>\n",
       "    <tr>\n",
       "      <th>std</th>\n",
       "      <td>3.559358</td>\n",
       "      <td>4.797057</td>\n",
       "    </tr>\n",
       "    <tr>\n",
       "      <th>min</th>\n",
       "      <td>8.630000</td>\n",
       "      <td>15.687000</td>\n",
       "    </tr>\n",
       "    <tr>\n",
       "      <th>25%</th>\n",
       "      <td>11.895250</td>\n",
       "      <td>18.716750</td>\n",
       "    </tr>\n",
       "    <tr>\n",
       "      <th>50%</th>\n",
       "      <td>14.356500</td>\n",
       "      <td>21.017500</td>\n",
       "    </tr>\n",
       "    <tr>\n",
       "      <th>75%</th>\n",
       "      <td>16.200750</td>\n",
       "      <td>24.051500</td>\n",
       "    </tr>\n",
       "    <tr>\n",
       "      <th>max</th>\n",
       "      <td>22.328000</td>\n",
       "      <td>35.255000</td>\n",
       "    </tr>\n",
       "  </tbody>\n",
       "</table>\n",
       "</div>"
      ],
      "text/plain": [
       "       Congruent  Incongruent\n",
       "count  24.000000    24.000000\n",
       "mean   14.051125    22.015917\n",
       "std     3.559358     4.797057\n",
       "min     8.630000    15.687000\n",
       "25%    11.895250    18.716750\n",
       "50%    14.356500    21.017500\n",
       "75%    16.200750    24.051500\n",
       "max    22.328000    35.255000"
      ]
     },
     "execution_count": 4,
     "metadata": {},
     "output_type": "execute_result"
    }
   ],
   "source": [
    "stroop_data.describe()"
   ]
  },
  {
   "cell_type": "markdown",
   "metadata": {},
   "source": [
    "From above:\n",
    "\n",
    "* Mean - \n",
    "   * Congruent = 14.05 secs\n",
    "   * Incongruent = 22.02 secs\n",
    "* Standard deviation - \n",
    "   * Congruent = 3.56 secs\n",
    "   * Incongruent = 4.80 secs\n",
    "* Median - \n",
    "   * Congruent = 14.36 secs\n",
    "   * Incongruent = 21.02 secs"
   ]
  },
  {
   "cell_type": "markdown",
   "metadata": {},
   "source": [
    "## Data visualizations"
   ]
  },
  {
   "cell_type": "code",
   "execution_count": 59,
   "metadata": {
    "collapsed": false
   },
   "outputs": [
    {
     "data": {
      "image/png": "[encoded data removed]",
      "text/plain": [
       "<matplotlib.figure.Figure at 0x1171e0d68>"
      ]
     },
     "metadata": {},
     "output_type": "display_data"
    }
   ],
   "source": [
    "import matplotlib.pyplot as plt\n",
    "import seaborn as sns\n",
    "\n",
    "sns.set_style(\"white\")\n",
    "fig = plt.figure(figsize=(10,4))\n",
    "ax1 = fig.add_subplot(1,2,1)\n",
    "ax1.set_xlim(5,40)\n",
    "ax1.set_ylim(0,4)\n",
    "sns.distplot(stroop_data[\"Congruent\"], bins=10, kde=False, color=(95/255,158/255,209/255))\n",
    "ax2 = fig.add_subplot(1,2,2)\n",
    "ax2.set_xlim(5,40)\n",
    "ax2.set_ylim(0,4)\n",
    "sns.distplot(stroop_data[\"Incongruent\"], bins=15, kde=False, color=(200/255, 82/255, 0/255))\n",
    "sns.despine(left=True, bottom=True)\n",
    "ax1.set_title(\"Congruent task - Histogram\")\n",
    "ax1.set_xlabel(\"time (secs)\")\n",
    "ax1.set_yticks([0,1,2,3,4])\n",
    "ax2.set_title(\"Incongruent task - Histogram\")\n",
    "ax2.set_xlabel(\"time (secs)\")\n",
    "ax2.set_yticks([0,1,2,3,4])\n",
    "plt.show()"
   ]
  },
  {
   "cell_type": "code",
   "execution_count": 58,
   "metadata": {
    "collapsed": false
   },
   "outputs": [
    {
     "name": "stderr",
     "output_type": "stream",
     "text": [
      "/Users/jeganram/anaconda/lib/python3.5/site-packages/statsmodels/nonparametric/kdetools.py:20: VisibleDeprecationWarning: using a non-integer number instead of an integer will result in an error in the future\n",
      "  y = X[:m/2+1] + np.r_[0,X[m/2+1:],0]*1j\n"
     ]
    },
    {
     "data": {
      "image/png": "[encoded data removed]",
      "text/plain": [
       "<matplotlib.figure.Figure at 0x1172181d0>"
      ]
     },
     "metadata": {},
     "output_type": "display_data"
    }
   ],
   "source": [
    "sns.set_style(\"white\")\n",
    "fig = plt.figure(figsize=(10,4))\n",
    "ax1 = fig.add_subplot(1,2,1)\n",
    "sns.kdeplot(stroop_data[\"Congruent\"], shade=True, legend=False, color=(95/255,158/255,209/255))\n",
    "ax2 = fig.add_subplot(1,2,2)\n",
    "sns.kdeplot(stroop_data[\"Incongruent\"], shade=True, legend=False, color=(200/255, 82/255, 0/255))\n",
    "sns.despine(left=True, bottom=True)\n",
    "ax1.set_title(\"Congruent task - Kernel density plot\")\n",
    "ax1.set_xlabel(\"time (secs)\")\n",
    "ax2.set_title(\"Incongruent task - Kernel density plot\")\n",
    "ax2.set_xlabel(\"time (secs)\")\n",
    "plt.show()"
   ]
  },
  {
   "cell_type": "code",
   "execution_count": 57,
   "metadata": {
    "collapsed": false
   },
   "outputs": [
    {
     "data": {
      "image/png": "[encoded data removed]",
      "text/plain": [
       "<matplotlib.figure.Figure at 0x117b3f860>"
      ]
     },
     "metadata": {},
     "output_type": "display_data"
    }
   ],
   "source": [
    "sns.set_style(\"white\")\n",
    "fig, ax = plt.subplots(figsize=(5,4))\n",
    "sns.boxplot(data=stroop_data, orient=\"h\", palette=[(95/255,158/255,209/255),(200/255, 82/255, 0/255)])\n",
    "sns.despine(left=True, bottom=True)\n",
    "ax.set_title(\"Congruent vs Incongruent task - Box plot\")\n",
    "ax.set_xlabel(\"time (secs)\")\n",
    "plt.show()"
   ]
  },
  {
   "cell_type": "markdown",
   "metadata": {},
   "source": [
    "**Observations:**\n",
    "\n",
    "1. Distribution of congruent and incongruent times are dense around the median and less spread out.\n",
    "2. It is easily noticeable that the incongruent times are considerably higher than congruent times."
   ]
  },
  {
   "cell_type": "markdown",
   "metadata": {},
   "source": [
    "# Dependent samples t-test"
   ]
  },
  {
   "cell_type": "markdown",
   "metadata": {},
   "source": [
    "$\\bar x_c = 14.05$ secs\n",
    "\n",
    "$\\bar x_i = 22.02$ secs\n",
    "\n",
    "$n = 24$\n",
    "\n",
    "$df = 23$"
   ]
  },
  {
   "cell_type": "code",
   "execution_count": 73,
   "metadata": {
    "collapsed": false
   },
   "outputs": [
    {
     "data": {
      "text/plain": [
       "4.864826910359056"
      ]
     },
     "execution_count": 73,
     "metadata": {},
     "output_type": "execute_result"
    }
   ],
   "source": [
    "stroop_data[\"Congruent - Incongruent\"] = stroop_data[\"Congruent\"] - stroop_data[\"Incongruent\"]\n",
    "stroop_data[\"Congruent - Incongruent\"].std()"
   ]
  },
  {
   "cell_type": "markdown",
   "metadata": {},
   "source": [
    "$s_{c-i} = 4.86$ secs"
   ]
  },
  {
   "cell_type": "code",
   "execution_count": 87,
   "metadata": {
    "collapsed": false
   },
   "outputs": [
    {
     "name": "stdout",
     "output_type": "stream",
     "text": [
      "-7.964791666666665 0.9930286347783406 Ttest_relResult(statistic=-8.020706944109957, pvalue=4.1030005857111781e-08)\n"
     ]
    }
   ],
   "source": [
    "import math\n",
    "from scipy import stats\n",
    "\n",
    "mean_diff = stroop_data[\"Congruent\"].mean()-stroop_data[\"Incongruent\"].mean()\n",
    "std_err = stroop_data[\"Congruent - Incongruent\"].std()/math.sqrt(stroop_data[\"Congruent\"].count())\n",
    "print(mean_diff, std_err, stats.ttest_rel(stroop_data[\"Congruent\"], stroop_data[\"Incongruent\"]))"
   ]
  },
  {
   "cell_type": "markdown",
   "metadata": {},
   "source": [
    "$\\bar x_c - \\bar x_i = -7.96$ secs\n",
    "\n",
    "S.E. = 0.99 secs\n",
    "\n",
    "$t_{stat} = -8.021$\n",
    "\n",
    "P-value = 0.00000004\n",
    "\n",
    "t(23) = -8.021, p=.00, one-tailed\n",
    "\n",
    "$\\alpha = 0.01$ i.e. confidence level = 99%\n",
    "\n",
    "$t_{critical} = -2.500$\n",
    "\n",
    "**Decision: Reject $H_0$ i.e. Reject - \"the reaction time of the congruent words condition is greater than or equal to the incongruent words condition\"**\n",
    "\n",
    "**This means, that the reaction time of the congruent words condition is significantly less than the incongruent words condition. This outcome was expected based on previous experimental results.**"
   ]
  },
  {
   "cell_type": "code",
   "execution_count": 89,
   "metadata": {
    "collapsed": false
   },
   "outputs": [
    {
     "name": "stdout",
     "output_type": "stream",
     "text": [
      "Confidence interval on the mean difference; 99% CI = ( -10.75 , -5.18 )\n"
     ]
    }
   ],
   "source": [
    "margin_err = 2.807*std_err\n",
    "print(\"Confidence interval on the mean difference; 99% CI = (\", round(mean_diff-margin_err,2),\",\",round(mean_diff+margin_err,2),\")\")"
   ]
  },
  {
   "cell_type": "code",
   "execution_count": 116,
   "metadata": {
    "collapsed": false
   },
   "outputs": [
    {
     "name": "stdout",
     "output_type": "stream",
     "text": [
      "d = -1.64\n"
     ]
    }
   ],
   "source": [
    "print(\"d =\", round(mean_diff/stroop_data[\"Congruent - Incongruent\"].std(),2))"
   ]
  },
  {
   "cell_type": "code",
   "execution_count": 115,
   "metadata": {
    "collapsed": false
   },
   "outputs": [
    {
     "name": "stdout",
     "output_type": "stream",
     "text": [
      "r^2 = 0.74"
     ]
    }
   ],
   "source": [
    "print(\"r^2\", \"=\", round(t_stat**2/(t_stat**2+(stroop_data[\"Congruent\"].count()-1)),2), end=\"\")"
   ]
  },
  {
   "cell_type": "markdown",
   "metadata": {},
   "source": [
    "## Cause of this effect and alternate task"
   ]
  },
  {
   "cell_type": "markdown",
   "metadata": {},
   "source": [
    "The longer reaction time for the incongruent task is due to the automation of reading, where the mind automatically determines the semantic meaning of the word (it reads the word \"red\" and thinks of the color \"red\"), and then must intentionally check itself and identify instead the color of the word (the ink is a color other than red), a process that is not automated."
   ]
  },
  {
   "cell_type": "markdown",
   "metadata": {},
   "source": [
    "An alternative task could be the warped words Stroop effect. Much like the Stroop task, the printed word's color is different from the ink color of the word; however, the words are printed in such a way that it is more difficult to read (typically curved-shaped). The idea here is the way the words are printed slows down both the brain's reaction and processing time, making it harder to complete the task."
   ]
  },
  {
   "cell_type": "markdown",
   "metadata": {},
   "source": [
    "## References"
   ]
  },
  {
   "cell_type": "markdown",
   "metadata": {},
   "source": [
    "http://psychclassics.yorku.ca/Stroop/\n",
    "\n",
    "https://en.wikipedia.org/wiki/Stroop_effect#Stroop_test\n",
    "\n",
    "https://www.dataquest.io/\n",
    "\n",
    "http://users.dickinson.edu/~richesod/latex/latexcheatsheet.pdf\n",
    "\n",
    "https://wch.github.io/latexsheet/latexsheet.pdf\n",
    "\n",
    "https://docs.scipy.org/doc/scipy/reference/generated/scipy.stats.ttest_rel.html"
   ]
  }
 ],
 "metadata": {
  "anaconda-cloud": {},
  "kernelspec": {
   "display_name": "Python [conda root]",
   "language": "python",
   "name": "conda-root-py"
  },
  "language_info": {
   "codemirror_mode": {
    "name": "ipython",
    "version": 3
   },
   "file_extension": ".py",
   "mimetype": "text/x-python",
   "name": "python",
   "nbconvert_exporter": "python",
   "pygments_lexer": "ipython3",
   "version": "3.5.2"
  }
 },
 "nbformat": 4,
 "nbformat_minor": 1
}
